{
  "nbformat": 4,
  "nbformat_minor": 0,
  "metadata": {
    "colab": {
      "provenance": []
    },
    "kernelspec": {
      "name": "python3",
      "display_name": "Python 3"
    },
    "language_info": {
      "name": "python"
    }
  },
  "cells": [
    {
      "cell_type": "markdown",
      "source": [
        "## **Feature Engineering**"
      ],
      "metadata": {
        "id": "FkSw5nP16laz"
      }
    },
    {
      "cell_type": "markdown",
      "source": [
        "Feature engineering is the process of creating new features or transforming existing features from raw data in order to improve the performance of a machine learning model. It plays a crucial role in the performance of machine learning models, as the quality and quantity of features can significantly impact the model's ability to make accurate predictions. Some common techniques used in feature engineering include:\n",
        "\n",
        "Feature scaling: This involves transforming the values of a feature to be within a specific range, such as between 0 and 1. This can be useful when working with features that have different units or scales.\n",
        "\n",
        "Feature normalization: This involves transforming the values of a feature to have a mean of 0 and a standard deviation of 1. This can be useful when working with features that have different units or scales.\n",
        "\n",
        "Feature transformation: This involves applying mathematical operations to the values of a feature, such as taking the square, cube or logarithm of the values. This can be useful when working with features that have non-linear relationships with the target variable.\n",
        "\n",
        "Feature extraction: This involves creating new features from existing features by applying mathematical or statistical operations. For example, you might extract the mean, median, or standard deviation of a set of features.\n",
        "\n",
        "Binning: This involves grouping a set of continuous or numerical data into a smaller number of discrete \"bins\" or intervals.\n",
        "\n",
        "Encoding categorical data: This involves converting categorical data, which can take on a limited number of values, into a format that can be understood by a machine learning model.\n",
        "\n",
        "Handling missing values: This involves identifying and either dropping or imputing missing values in the data.\n",
        "\n",
        "Combining features: This involves creating new features by combining multiple existing features. For example, you might create a new feature by taking the product or ratio of two existing features.\n",
        "\n",
        "Dimensionality reduction: This involves reducing the number of features in the data set by either removing or combining features."
      ],
      "metadata": {
        "id": "scroKLIF6cGT"
      }
    },
    {
      "cell_type": "markdown",
      "source": [
        "# **Encoding categorical data**\n",
        "\n",
        "Encoding categorical data is the process of converting categorical data, which can take on a limited number of values, into a format that can be understood by a machine learning model. There are several ways to encode categorical data, including:\n",
        "\n",
        "One-hot encoding: This method creates a new binary column for each unique category in the data. Each row is then given a 1 in the column corresponding to the category it belongs to, and 0s in all other columns. One-hot encoding can be useful when the categories are mutually exclusive and there is no inherent ordering of the categories.\n",
        "\n",
        "Label encoding: This method assigns an integer value to each category. This can be useful when there is an inherent ordering of the categories, and it is important to maintain that ordering.\n",
        "\n",
        "Count encoding: This method replaces a categorical value with the count of how many times that value appears in the dataset.\n",
        "\n",
        "Binary Encoding: This method replaces the categorical feature with a binary encoding of its integers. It is useful when the categorical feature have high cardinality and the tree-based model is used.\n",
        "\n",
        "Helmert Encoding: This method replaces a categorical value with a vector of the differences between the mean of the target variable for each level of the categorical variable and the overall mean of the target variable.\n",
        "\n",
        "There are also libraries available in different languages like Python, R, etc. which have functions that can be used to encode categorical data like pandas.get_dummies, sklearn.preprocessing.LabelEncoder, etc.\n",
        "\n",
        "It's important to note that the choice of encoding method depends on the specific use case and the model that you are using. Some models may perform better with one type of encoding than others."
      ],
      "metadata": {
        "id": "jcswv0hU1fxF"
      }
    },
    {
      "cell_type": "markdown",
      "source": [
        "## **1. Label Encoding**"
      ],
      "metadata": {
        "id": "6xutyjjc2ZdF"
      }
    },
    {
      "cell_type": "code",
      "source": [
        "from sklearn.preprocessing import LabelEncoder\n",
        "import pandas as pd\n",
        "\n",
        "# Create an instance of the LabelEncoder class\n",
        "le = LabelEncoder()\n",
        "\n",
        "# Example dataframe with a 'color' column containing categorical data\n",
        "data = {'color': ['red', 'green', 'blue', 'red', 'green', 'blue']}\n",
        "df = pd.DataFrame(data)\n",
        "\n",
        "# Fit the encoder to the categorical data\n",
        "le.fit(df['color'])\n",
        "\n",
        "# View the mapping from categories to integers\n",
        "print(le.classes_) # will print ['blue', 'green', 'red']\n",
        "\n",
        "# Transform the categorical data into integers\n",
        "df['color'] = le.transform(df['color'])\n",
        "\n",
        "# View the encoded data\n",
        "print(df)\n"
      ],
      "metadata": {
        "colab": {
          "base_uri": "https://localhost:8080/"
        },
        "id": "bhYrRYML0Sav",
        "outputId": "4e9b4cfa-e548-4e10-eb83-7513a591ba5c"
      },
      "execution_count": null,
      "outputs": [
        {
          "output_type": "stream",
          "name": "stdout",
          "text": [
            "['blue' 'green' 'red']\n",
            "   color\n",
            "0      2\n",
            "1      1\n",
            "2      0\n",
            "3      2\n",
            "4      1\n",
            "5      0\n"
          ]
        }
      ]
    },
    {
      "cell_type": "markdown",
      "source": [
        "### **2. One Hot Encoding**"
      ],
      "metadata": {
        "id": "q0OdKsJl0lxV"
      }
    },
    {
      "cell_type": "code",
      "source": [
        "from sklearn.preprocessing import OneHotEncoder\n",
        "import pandas as pd\n",
        "\n",
        "# Example dataframe with a 'color' column containing categorical data\n",
        "data = {'color': ['red', 'green', 'blue', 'red', 'green', 'blue']}\n",
        "df = pd.DataFrame(data)\n",
        "\n",
        "# Create an instance of the OneHotEncoder class\n",
        "enc = OneHotEncoder()\n",
        "\n",
        "# Fit the encoder to the categorical data\n",
        "enc.fit(df[['color']])\n",
        "\n",
        "# Transform the categorical data into one-hot encoded data\n",
        "one_hot_data = enc.transform(df[['color']]).toarray()\n",
        "\n",
        "# Create a new dataframe with the one-hot encoded data\n",
        "df_encoded = pd.DataFrame(one_hot_data, columns=enc.get_feature_names_out(['color']))\n",
        "\n",
        "# View the encoded data\n",
        "print(df_encoded)\n"
      ],
      "metadata": {
        "colab": {
          "base_uri": "https://localhost:8080/"
        },
        "id": "4KPuneAR0cF4",
        "outputId": "5b53cf4f-72c8-425a-a810-be0779e7697f"
      },
      "execution_count": null,
      "outputs": [
        {
          "output_type": "stream",
          "name": "stdout",
          "text": [
            "   color_blue  color_green  color_red\n",
            "0         0.0          0.0        1.0\n",
            "1         0.0          1.0        0.0\n",
            "2         1.0          0.0        0.0\n",
            "3         0.0          0.0        1.0\n",
            "4         0.0          1.0        0.0\n",
            "5         1.0          0.0        0.0\n"
          ]
        }
      ]
    },
    {
      "cell_type": "code",
      "source": [
        "type(df['color'])"
      ],
      "metadata": {
        "colab": {
          "base_uri": "https://localhost:8080/"
        },
        "id": "vAWSR7LR1YHD",
        "outputId": "6f0eff9e-9173-4c84-8412-41e7eb3c90af"
      },
      "execution_count": null,
      "outputs": [
        {
          "output_type": "execute_result",
          "data": {
            "text/plain": [
              "pandas.core.series.Series"
            ]
          },
          "metadata": {},
          "execution_count": 3
        }
      ]
    },
    {
      "cell_type": "code",
      "source": [
        "type(df[['color']])"
      ],
      "metadata": {
        "colab": {
          "base_uri": "https://localhost:8080/"
        },
        "id": "oE0Ppu0P2SHb",
        "outputId": "3bf6b336-60d5-4b5a-d140-748b31f893de"
      },
      "execution_count": null,
      "outputs": [
        {
          "output_type": "execute_result",
          "data": {
            "text/plain": [
              "pandas.core.frame.DataFrame"
            ]
          },
          "metadata": {},
          "execution_count": 4
        }
      ]
    },
    {
      "cell_type": "code",
      "source": [
        "one_hot_data"
      ],
      "metadata": {
        "colab": {
          "base_uri": "https://localhost:8080/"
        },
        "id": "jZaokpsk2eco",
        "outputId": "bb6a657c-f081-46ad-9a6e-ee34df62b337"
      },
      "execution_count": null,
      "outputs": [
        {
          "output_type": "execute_result",
          "data": {
            "text/plain": [
              "array([[0., 0., 1.],\n",
              "       [0., 1., 0.],\n",
              "       [1., 0., 0.],\n",
              "       [0., 0., 1.],\n",
              "       [0., 1., 0.],\n",
              "       [1., 0., 0.]])"
            ]
          },
          "metadata": {},
          "execution_count": 5
        }
      ]
    },
    {
      "cell_type": "markdown",
      "source": [
        "Performing OneHotEncoding using pandas get_dummies"
      ],
      "metadata": {
        "id": "kT8U2GLEbEgX"
      }
    },
    {
      "cell_type": "code",
      "source": [
        "data = {'color': ['red', 'green', 'blue', 'red', 'green', 'blue']}\n",
        "df = pd.DataFrame(data)\n",
        "df_encoded1 = pd.get_dummies(df['color'])\n",
        "df_encoded1\n"
      ],
      "metadata": {
        "colab": {
          "base_uri": "https://localhost:8080/",
          "height": 238
        },
        "id": "ZQtda4aH9F0F",
        "outputId": "194a1649-2cfe-4b1c-895e-47688e29f86b"
      },
      "execution_count": null,
      "outputs": [
        {
          "output_type": "execute_result",
          "data": {
            "text/plain": [
              "   blue  green  red\n",
              "0     0      0    1\n",
              "1     0      1    0\n",
              "2     1      0    0\n",
              "3     0      0    1\n",
              "4     0      1    0\n",
              "5     1      0    0"
            ],
            "text/html": [
              "\n",
              "  <div id=\"df-1da93f87-a770-469d-a755-05d468d27601\">\n",
              "    <div class=\"colab-df-container\">\n",
              "      <div>\n",
              "<style scoped>\n",
              "    .dataframe tbody tr th:only-of-type {\n",
              "        vertical-align: middle;\n",
              "    }\n",
              "\n",
              "    .dataframe tbody tr th {\n",
              "        vertical-align: top;\n",
              "    }\n",
              "\n",
              "    .dataframe thead th {\n",
              "        text-align: right;\n",
              "    }\n",
              "</style>\n",
              "<table border=\"1\" class=\"dataframe\">\n",
              "  <thead>\n",
              "    <tr style=\"text-align: right;\">\n",
              "      <th></th>\n",
              "      <th>blue</th>\n",
              "      <th>green</th>\n",
              "      <th>red</th>\n",
              "    </tr>\n",
              "  </thead>\n",
              "  <tbody>\n",
              "    <tr>\n",
              "      <th>0</th>\n",
              "      <td>0</td>\n",
              "      <td>0</td>\n",
              "      <td>1</td>\n",
              "    </tr>\n",
              "    <tr>\n",
              "      <th>1</th>\n",
              "      <td>0</td>\n",
              "      <td>1</td>\n",
              "      <td>0</td>\n",
              "    </tr>\n",
              "    <tr>\n",
              "      <th>2</th>\n",
              "      <td>1</td>\n",
              "      <td>0</td>\n",
              "      <td>0</td>\n",
              "    </tr>\n",
              "    <tr>\n",
              "      <th>3</th>\n",
              "      <td>0</td>\n",
              "      <td>0</td>\n",
              "      <td>1</td>\n",
              "    </tr>\n",
              "    <tr>\n",
              "      <th>4</th>\n",
              "      <td>0</td>\n",
              "      <td>1</td>\n",
              "      <td>0</td>\n",
              "    </tr>\n",
              "    <tr>\n",
              "      <th>5</th>\n",
              "      <td>1</td>\n",
              "      <td>0</td>\n",
              "      <td>0</td>\n",
              "    </tr>\n",
              "  </tbody>\n",
              "</table>\n",
              "</div>\n",
              "      <button class=\"colab-df-convert\" onclick=\"convertToInteractive('df-1da93f87-a770-469d-a755-05d468d27601')\"\n",
              "              title=\"Convert this dataframe to an interactive table.\"\n",
              "              style=\"display:none;\">\n",
              "        \n",
              "  <svg xmlns=\"http://www.w3.org/2000/svg\" height=\"24px\"viewBox=\"0 0 24 24\"\n",
              "       width=\"24px\">\n",
              "    <path d=\"M0 0h24v24H0V0z\" fill=\"none\"/>\n",
              "    <path d=\"M18.56 5.44l.94 2.06.94-2.06 2.06-.94-2.06-.94-.94-2.06-.94 2.06-2.06.94zm-11 1L8.5 8.5l.94-2.06 2.06-.94-2.06-.94L8.5 2.5l-.94 2.06-2.06.94zm10 10l.94 2.06.94-2.06 2.06-.94-2.06-.94-.94-2.06-.94 2.06-2.06.94z\"/><path d=\"M17.41 7.96l-1.37-1.37c-.4-.4-.92-.59-1.43-.59-.52 0-1.04.2-1.43.59L10.3 9.45l-7.72 7.72c-.78.78-.78 2.05 0 2.83L4 21.41c.39.39.9.59 1.41.59.51 0 1.02-.2 1.41-.59l7.78-7.78 2.81-2.81c.8-.78.8-2.07 0-2.86zM5.41 20L4 18.59l7.72-7.72 1.47 1.35L5.41 20z\"/>\n",
              "  </svg>\n",
              "      </button>\n",
              "      \n",
              "  <style>\n",
              "    .colab-df-container {\n",
              "      display:flex;\n",
              "      flex-wrap:wrap;\n",
              "      gap: 12px;\n",
              "    }\n",
              "\n",
              "    .colab-df-convert {\n",
              "      background-color: #E8F0FE;\n",
              "      border: none;\n",
              "      border-radius: 50%;\n",
              "      cursor: pointer;\n",
              "      display: none;\n",
              "      fill: #1967D2;\n",
              "      height: 32px;\n",
              "      padding: 0 0 0 0;\n",
              "      width: 32px;\n",
              "    }\n",
              "\n",
              "    .colab-df-convert:hover {\n",
              "      background-color: #E2EBFA;\n",
              "      box-shadow: 0px 1px 2px rgba(60, 64, 67, 0.3), 0px 1px 3px 1px rgba(60, 64, 67, 0.15);\n",
              "      fill: #174EA6;\n",
              "    }\n",
              "\n",
              "    [theme=dark] .colab-df-convert {\n",
              "      background-color: #3B4455;\n",
              "      fill: #D2E3FC;\n",
              "    }\n",
              "\n",
              "    [theme=dark] .colab-df-convert:hover {\n",
              "      background-color: #434B5C;\n",
              "      box-shadow: 0px 1px 3px 1px rgba(0, 0, 0, 0.15);\n",
              "      filter: drop-shadow(0px 1px 2px rgba(0, 0, 0, 0.3));\n",
              "      fill: #FFFFFF;\n",
              "    }\n",
              "  </style>\n",
              "\n",
              "      <script>\n",
              "        const buttonEl =\n",
              "          document.querySelector('#df-1da93f87-a770-469d-a755-05d468d27601 button.colab-df-convert');\n",
              "        buttonEl.style.display =\n",
              "          google.colab.kernel.accessAllowed ? 'block' : 'none';\n",
              "\n",
              "        async function convertToInteractive(key) {\n",
              "          const element = document.querySelector('#df-1da93f87-a770-469d-a755-05d468d27601');\n",
              "          const dataTable =\n",
              "            await google.colab.kernel.invokeFunction('convertToInteractive',\n",
              "                                                     [key], {});\n",
              "          if (!dataTable) return;\n",
              "\n",
              "          const docLinkHtml = 'Like what you see? Visit the ' +\n",
              "            '<a target=\"_blank\" href=https://colab.research.google.com/notebooks/data_table.ipynb>data table notebook</a>'\n",
              "            + ' to learn more about interactive tables.';\n",
              "          element.innerHTML = '';\n",
              "          dataTable['output_type'] = 'display_data';\n",
              "          await google.colab.output.renderOutput(dataTable, element);\n",
              "          const docLink = document.createElement('div');\n",
              "          docLink.innerHTML = docLinkHtml;\n",
              "          element.appendChild(docLink);\n",
              "        }\n",
              "      </script>\n",
              "    </div>\n",
              "  </div>\n",
              "  "
            ]
          },
          "metadata": {},
          "execution_count": 12
        }
      ]
    },
    {
      "cell_type": "markdown",
      "source": [
        "## **Binning**"
      ],
      "metadata": {
        "id": "Wj5npogy-u9a"
      }
    },
    {
      "cell_type": "markdown",
      "source": [
        "Binning is a method of grouping a set of continuous or numerical data into a smaller number of discrete \"bins\" or intervals. This can be useful for data visualization, statistical analysis, and machine learning tasks. Each bin is typically represented by a single value, such as the midpoint or mean of the data in that bin, and the data points within a bin are considered to be similar to one another in some way. Binning can be used to reduce the complexity of a dataset and make patterns and trends more easily visible."
      ],
      "metadata": {
        "id": "zlk3oBSD-zRR"
      }
    },
    {
      "cell_type": "markdown",
      "source": [
        "There are several ways to implement binning, depending on the specific use case and the type of data being binned. Here are a few common methods:\n",
        "\n",
        "Fixed-width binning: In this method, the range of the data is divided into a fixed number of bins of equal width. This is a simple and straightforward way to bin data, but it may not be appropriate if the data has a non-uniform distribution.\n",
        "\n",
        "Adaptive binning: In this method, the width of the bins is adjusted based on the distribution of the data. This can be useful when dealing with data that has a non-uniform distribution.\n",
        "\n",
        "K-means binning: In this method, the data is divided into a fixed number of bins based on the k-means clustering algorithm. This can be useful when the data is not evenly distributed and there are clear clusters or groups in the data.\n",
        "\n",
        "There are also many libraries available in different languages like Python, R, etc. which have functions that can be used to implement binning like numpy.histogram, pandas.cut, etc."
      ],
      "metadata": {
        "id": "sFw_3UTQ--uJ"
      }
    },
    {
      "cell_type": "code",
      "source": [
        "import pandas as pd\n",
        "\n",
        "# Example dataframe with a 'age' column\n",
        "data = {'age': [25, 30, 35, 40, 45, 50, 55, 60, 65, 70]}\n",
        "df = pd.DataFrame(data)\n",
        "\n",
        "# Define the bin edges and labels\n",
        "bin_edges = [20, 30, 40, 50, 60, 70]\n",
        "bin_labels = ['20-30', '30-40', '40-50', '50-60', '60-70']\n",
        "\n",
        "# Perform binning on the 'age' column\n",
        "df['age_bins'] = pd.cut(df['age'], bin_edges, labels=bin_labels)\n",
        "\n",
        "# View the binned data\n",
        "print(df)\n"
      ],
      "metadata": {
        "colab": {
          "base_uri": "https://localhost:8080/"
        },
        "id": "u3SA6j8l-zCh",
        "outputId": "4c3ae261-ad75-4d73-dfae-6f649a7a92d9"
      },
      "execution_count": null,
      "outputs": [
        {
          "output_type": "stream",
          "name": "stdout",
          "text": [
            "   age age_bins\n",
            "0   25    20-30\n",
            "1   30    20-30\n",
            "2   35    30-40\n",
            "3   40    30-40\n",
            "4   45    40-50\n",
            "5   50    40-50\n",
            "6   55    50-60\n",
            "7   60    50-60\n",
            "8   65    60-70\n",
            "9   70    60-70\n"
          ]
        }
      ]
    },
    {
      "cell_type": "markdown",
      "source": [
        "You can also use the qcut function to perform quantile-based binning, this way the number of observations in each bin will be roughly equal."
      ],
      "metadata": {
        "id": "i3QAuXv2BnUT"
      }
    },
    {
      "cell_type": "code",
      "source": [
        "# Perform quantile-based binning on the 'age' column\n",
        "df['age_bins'] = pd.qcut(df['age'], q=5, labels=bin_labels)\n",
        "df"
      ],
      "metadata": {
        "colab": {
          "base_uri": "https://localhost:8080/",
          "height": 363
        },
        "id": "LT5Vkr8M-x9q",
        "outputId": "b62b6392-c015-46f1-afcb-ee3c6579d820"
      },
      "execution_count": null,
      "outputs": [
        {
          "output_type": "execute_result",
          "data": {
            "text/plain": [
              "   age age_bins\n",
              "0   25    20-30\n",
              "1   30    20-30\n",
              "2   35    30-40\n",
              "3   40    30-40\n",
              "4   45    40-50\n",
              "5   50    40-50\n",
              "6   55    50-60\n",
              "7   60    50-60\n",
              "8   65    60-70\n",
              "9   70    60-70"
            ],
            "text/html": [
              "\n",
              "  <div id=\"df-e9b89f7e-78fd-43cf-8c3c-a363708b9f56\">\n",
              "    <div class=\"colab-df-container\">\n",
              "      <div>\n",
              "<style scoped>\n",
              "    .dataframe tbody tr th:only-of-type {\n",
              "        vertical-align: middle;\n",
              "    }\n",
              "\n",
              "    .dataframe tbody tr th {\n",
              "        vertical-align: top;\n",
              "    }\n",
              "\n",
              "    .dataframe thead th {\n",
              "        text-align: right;\n",
              "    }\n",
              "</style>\n",
              "<table border=\"1\" class=\"dataframe\">\n",
              "  <thead>\n",
              "    <tr style=\"text-align: right;\">\n",
              "      <th></th>\n",
              "      <th>age</th>\n",
              "      <th>age_bins</th>\n",
              "    </tr>\n",
              "  </thead>\n",
              "  <tbody>\n",
              "    <tr>\n",
              "      <th>0</th>\n",
              "      <td>25</td>\n",
              "      <td>20-30</td>\n",
              "    </tr>\n",
              "    <tr>\n",
              "      <th>1</th>\n",
              "      <td>30</td>\n",
              "      <td>20-30</td>\n",
              "    </tr>\n",
              "    <tr>\n",
              "      <th>2</th>\n",
              "      <td>35</td>\n",
              "      <td>30-40</td>\n",
              "    </tr>\n",
              "    <tr>\n",
              "      <th>3</th>\n",
              "      <td>40</td>\n",
              "      <td>30-40</td>\n",
              "    </tr>\n",
              "    <tr>\n",
              "      <th>4</th>\n",
              "      <td>45</td>\n",
              "      <td>40-50</td>\n",
              "    </tr>\n",
              "    <tr>\n",
              "      <th>5</th>\n",
              "      <td>50</td>\n",
              "      <td>40-50</td>\n",
              "    </tr>\n",
              "    <tr>\n",
              "      <th>6</th>\n",
              "      <td>55</td>\n",
              "      <td>50-60</td>\n",
              "    </tr>\n",
              "    <tr>\n",
              "      <th>7</th>\n",
              "      <td>60</td>\n",
              "      <td>50-60</td>\n",
              "    </tr>\n",
              "    <tr>\n",
              "      <th>8</th>\n",
              "      <td>65</td>\n",
              "      <td>60-70</td>\n",
              "    </tr>\n",
              "    <tr>\n",
              "      <th>9</th>\n",
              "      <td>70</td>\n",
              "      <td>60-70</td>\n",
              "    </tr>\n",
              "  </tbody>\n",
              "</table>\n",
              "</div>\n",
              "      <button class=\"colab-df-convert\" onclick=\"convertToInteractive('df-e9b89f7e-78fd-43cf-8c3c-a363708b9f56')\"\n",
              "              title=\"Convert this dataframe to an interactive table.\"\n",
              "              style=\"display:none;\">\n",
              "        \n",
              "  <svg xmlns=\"http://www.w3.org/2000/svg\" height=\"24px\"viewBox=\"0 0 24 24\"\n",
              "       width=\"24px\">\n",
              "    <path d=\"M0 0h24v24H0V0z\" fill=\"none\"/>\n",
              "    <path d=\"M18.56 5.44l.94 2.06.94-2.06 2.06-.94-2.06-.94-.94-2.06-.94 2.06-2.06.94zm-11 1L8.5 8.5l.94-2.06 2.06-.94-2.06-.94L8.5 2.5l-.94 2.06-2.06.94zm10 10l.94 2.06.94-2.06 2.06-.94-2.06-.94-.94-2.06-.94 2.06-2.06.94z\"/><path d=\"M17.41 7.96l-1.37-1.37c-.4-.4-.92-.59-1.43-.59-.52 0-1.04.2-1.43.59L10.3 9.45l-7.72 7.72c-.78.78-.78 2.05 0 2.83L4 21.41c.39.39.9.59 1.41.59.51 0 1.02-.2 1.41-.59l7.78-7.78 2.81-2.81c.8-.78.8-2.07 0-2.86zM5.41 20L4 18.59l7.72-7.72 1.47 1.35L5.41 20z\"/>\n",
              "  </svg>\n",
              "      </button>\n",
              "      \n",
              "  <style>\n",
              "    .colab-df-container {\n",
              "      display:flex;\n",
              "      flex-wrap:wrap;\n",
              "      gap: 12px;\n",
              "    }\n",
              "\n",
              "    .colab-df-convert {\n",
              "      background-color: #E8F0FE;\n",
              "      border: none;\n",
              "      border-radius: 50%;\n",
              "      cursor: pointer;\n",
              "      display: none;\n",
              "      fill: #1967D2;\n",
              "      height: 32px;\n",
              "      padding: 0 0 0 0;\n",
              "      width: 32px;\n",
              "    }\n",
              "\n",
              "    .colab-df-convert:hover {\n",
              "      background-color: #E2EBFA;\n",
              "      box-shadow: 0px 1px 2px rgba(60, 64, 67, 0.3), 0px 1px 3px 1px rgba(60, 64, 67, 0.15);\n",
              "      fill: #174EA6;\n",
              "    }\n",
              "\n",
              "    [theme=dark] .colab-df-convert {\n",
              "      background-color: #3B4455;\n",
              "      fill: #D2E3FC;\n",
              "    }\n",
              "\n",
              "    [theme=dark] .colab-df-convert:hover {\n",
              "      background-color: #434B5C;\n",
              "      box-shadow: 0px 1px 3px 1px rgba(0, 0, 0, 0.15);\n",
              "      filter: drop-shadow(0px 1px 2px rgba(0, 0, 0, 0.3));\n",
              "      fill: #FFFFFF;\n",
              "    }\n",
              "  </style>\n",
              "\n",
              "      <script>\n",
              "        const buttonEl =\n",
              "          document.querySelector('#df-e9b89f7e-78fd-43cf-8c3c-a363708b9f56 button.colab-df-convert');\n",
              "        buttonEl.style.display =\n",
              "          google.colab.kernel.accessAllowed ? 'block' : 'none';\n",
              "\n",
              "        async function convertToInteractive(key) {\n",
              "          const element = document.querySelector('#df-e9b89f7e-78fd-43cf-8c3c-a363708b9f56');\n",
              "          const dataTable =\n",
              "            await google.colab.kernel.invokeFunction('convertToInteractive',\n",
              "                                                     [key], {});\n",
              "          if (!dataTable) return;\n",
              "\n",
              "          const docLinkHtml = 'Like what you see? Visit the ' +\n",
              "            '<a target=\"_blank\" href=https://colab.research.google.com/notebooks/data_table.ipynb>data table notebook</a>'\n",
              "            + ' to learn more about interactive tables.';\n",
              "          element.innerHTML = '';\n",
              "          dataTable['output_type'] = 'display_data';\n",
              "          await google.colab.output.renderOutput(dataTable, element);\n",
              "          const docLink = document.createElement('div');\n",
              "          docLink.innerHTML = docLinkHtml;\n",
              "          element.appendChild(docLink);\n",
              "        }\n",
              "      </script>\n",
              "    </div>\n",
              "  </div>\n",
              "  "
            ]
          },
          "metadata": {},
          "execution_count": 7
        }
      ]
    },
    {
      "cell_type": "markdown",
      "source": [
        "You can also use the numpy's histogram method to perform binning and get the bin edges and frequencies of each bin."
      ],
      "metadata": {
        "id": "6w3uGqkcB7WI"
      }
    },
    {
      "cell_type": "code",
      "source": [
        "import numpy as np\n",
        "\n",
        "# Perform binning on the 'age' column\n",
        "bin_edges, bin_freq = np.histogram(df['age'], bins=[20,30,40,50,60,70])\n"
      ],
      "metadata": {
        "id": "euGqr5bEB8Ib"
      },
      "execution_count": null,
      "outputs": []
    },
    {
      "cell_type": "markdown",
      "source": [
        "# Variable Transformation"
      ],
      "metadata": {
        "id": "1BaXTr3S-zIR"
      }
    },
    {
      "cell_type": "markdown",
      "source": [
        "Some machine learning models, like linear and logistic regression, assume that the variables follow a normal distribution. More likely, variables in real datasets will follow more a skewed distribution.\n",
        "\n",
        "By applying a number of transformations to these variables, and mapping their skewed distribution to a normal distribution, we can increase the performance of our models."
      ],
      "metadata": {
        "id": "aN7A5mw5_Bd4"
      }
    },
    {
      "cell_type": "markdown",
      "source": [
        "The most commonly-used methods to transform variables are the following:\n",
        "\n",
        "Logarithmic transformation\n",
        "Square root transformation\n",
        "Reciprocal transformation\n",
        "Exponential or power transformation"
      ],
      "metadata": {
        "id": "uAnIygsF_E4K"
      }
    },
    {
      "cell_type": "markdown",
      "source": [
        "# **Logarithmic transformation**"
      ],
      "metadata": {
        "id": "8qQ4ns9a_Osg"
      }
    },
    {
      "cell_type": "code",
      "source": [
        "# import pyplot\n",
        "import pandas as pd\n",
        "import matplotlib.pyplot  as plt\n",
        "%matplotlib inline\n",
        "#reading the data into variable new_data\n",
        "data = pd.read_csv('https://raw.githubusercontent.com/jainrachit108/datasets/main/kc_house_data.csv')\n",
        "new_data = data.drop('date' ,axis = 1)\n",
        "#plot price histogram\n",
        "plt.hist(new_data['price'],bins = 10)\n"
      ],
      "metadata": {
        "id": "SLX5VtLTC-tQ"
      },
      "execution_count": null,
      "outputs": []
    },
    {
      "cell_type": "code",
      "source": [
        "#plotting histogram after log transformation \n",
        "import numpy as np\n",
        "new_data['price'] = np.log(new_data['price'])\n",
        "plt.hist(new_data['price'])"
      ],
      "metadata": {
        "id": "HJsHwKi8_eRJ"
      },
      "execution_count": null,
      "outputs": []
    }
  ]
}